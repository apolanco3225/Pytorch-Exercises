{
  "nbformat": 4,
  "nbformat_minor": 0,
  "metadata": {
    "colab": {
      "name": "intro_pytorch_1.ipynb",
      "version": "0.3.2",
      "provenance": []
    },
    "kernelspec": {
      "name": "python3",
      "display_name": "Python 3"
    }
  },
  "cells": [
    {
      "cell_type": "code",
      "metadata": {
        "id": "LAp4LIoFmkLd",
        "colab_type": "code",
        "colab": {}
      },
      "source": [
        "import torch"
      ],
      "execution_count": 0,
      "outputs": []
    },
    {
      "cell_type": "code",
      "metadata": {
        "id": "5YbWVBR1mpij",
        "colab_type": "code",
        "colab": {}
      },
      "source": [
        "def activation(x):\n",
        "  # sigmoid activation funcction\n",
        "  return 1 / (1 + torch.exp(-x))"
      ],
      "execution_count": 0,
      "outputs": []
    },
    {
      "cell_type": "code",
      "metadata": {
        "id": "TT_pAzvGmuPQ",
        "colab_type": "code",
        "colab": {}
      },
      "source": [
        "# generate a random seed so thigs are predictable\n",
        "torch.manual_seed(7)\n",
        "# feature are 5 random variables\n",
        "features = torch.randn((1, 5))\n",
        "# true weigths are our data, random normal variables again\n",
        "weigths =  torch.randn_like(features)\n",
        "# and a true bias term\n",
        "bias = torch.randn((1, 1))"
      ],
      "execution_count": 0,
      "outputs": []
    },
    {
      "cell_type": "code",
      "metadata": {
        "id": "pm1NDD4em4OW",
        "colab_type": "code",
        "colab": {}
      },
      "source": [
        "# create logits\n",
        "y = activation(torch.sum(features * weigths) + bias)\n",
        "y = activation((features*weigths).sum() + bias)"
      ],
      "execution_count": 0,
      "outputs": []
    },
    {
      "cell_type": "code",
      "metadata": {
        "id": "XlEpscVloJmB",
        "colab_type": "code",
        "colab": {}
      },
      "source": [
        "y = activation(torch.mm(features, weigths.view(5, 1)) + bias)"
      ],
      "execution_count": 0,
      "outputs": []
    },
    {
      "cell_type": "code",
      "metadata": {
        "id": "cMxMhlpdpGA_",
        "colab_type": "code",
        "colab": {}
      },
      "source": [
        "# generate  some data\n",
        "torch.manual_seed(7)\n",
        "# features are 3 random normal variables\n",
        "features = torch.randn((1, 3))\n",
        "# definee the size of each layer in our network\n",
        "n_input = features.shape[1]\n",
        "n_hidden = 2\n",
        "n_output = 1\n",
        "\n",
        "# weights for inputs to hidden layer\n",
        "W1 = torch.randn(n_input, n_hidden)\n",
        "# weights for hidden layer\n",
        "W2 = torch.randn(n_hidden, n_output)\n",
        "\n",
        "# and bias terms for hidden and oputput layers\n",
        "B1 = torch.randn((1, n_hidden))\n",
        "B2 = torch.randn((1, n_output))"
      ],
      "execution_count": 0,
      "outputs": []
    },
    {
      "cell_type": "code",
      "metadata": {
        "id": "6DUuXKUKp7zy",
        "colab_type": "code",
        "colab": {
          "base_uri": "https://localhost:8080/",
          "height": 34
        },
        "outputId": "28ee85a0-d813-44bb-c29e-d0384ce3b70b"
      },
      "source": [
        "h = activation(torch.mm(features, W1) + B1)\n",
        "output = activation(torch.mm(h, W2) + B2)\n",
        "print(output)"
      ],
      "execution_count": 14,
      "outputs": [
        {
          "output_type": "stream",
          "text": [
            "tensor([[0.3171]])\n"
          ],
          "name": "stdout"
        }
      ]
    },
    {
      "cell_type": "code",
      "metadata": {
        "id": "VV3E7Y0zqJsc",
        "colab_type": "code",
        "colab": {
          "base_uri": "https://localhost:8080/",
          "height": 86
        },
        "outputId": "69cd1131-213d-40d2-bc2f-44206e99eb18"
      },
      "source": [
        "# numpy to torh and back\n",
        "import numpy as np\n",
        "a = np.random.rand(4, 3)\n",
        "print(a)"
      ],
      "execution_count": 15,
      "outputs": [
        {
          "output_type": "stream",
          "text": [
            "[[0.53605519 0.10019823 0.1998179 ]\n",
            " [0.58622757 0.16528477 0.92292214]\n",
            " [0.93276869 0.06208106 0.28881502]\n",
            " [0.60985848 0.83741873 0.61330124]]\n"
          ],
          "name": "stdout"
        }
      ]
    },
    {
      "cell_type": "code",
      "metadata": {
        "id": "MDg34y1cqZdR",
        "colab_type": "code",
        "colab": {
          "base_uri": "https://localhost:8080/",
          "height": 86
        },
        "outputId": "d9e4bcbf-8bf4-4312-b5cb-31bfabb16c55"
      },
      "source": [
        "b = torch.from_numpy(a)\n",
        "print(b)"
      ],
      "execution_count": 16,
      "outputs": [
        {
          "output_type": "stream",
          "text": [
            "tensor([[0.5361, 0.1002, 0.1998],\n",
            "        [0.5862, 0.1653, 0.9229],\n",
            "        [0.9328, 0.0621, 0.2888],\n",
            "        [0.6099, 0.8374, 0.6133]], dtype=torch.float64)\n"
          ],
          "name": "stdout"
        }
      ]
    },
    {
      "cell_type": "code",
      "metadata": {
        "id": "Jn70oWawqgmD",
        "colab_type": "code",
        "colab": {
          "base_uri": "https://localhost:8080/",
          "height": 34
        },
        "outputId": "97bd4356-306a-41a0-d702-97a4062af96c"
      },
      "source": [
        "type(b)"
      ],
      "execution_count": 17,
      "outputs": [
        {
          "output_type": "execute_result",
          "data": {
            "text/plain": [
              "torch.Tensor"
            ]
          },
          "metadata": {
            "tags": []
          },
          "execution_count": 17
        }
      ]
    },
    {
      "cell_type": "code",
      "metadata": {
        "id": "_IhcbWxMqi4d",
        "colab_type": "code",
        "colab": {
          "base_uri": "https://localhost:8080/",
          "height": 86
        },
        "outputId": "86874565-4176-49aa-8e1e-c8f334f51bae"
      },
      "source": [
        "b.numpy()"
      ],
      "execution_count": 18,
      "outputs": [
        {
          "output_type": "execute_result",
          "data": {
            "text/plain": [
              "array([[0.53605519, 0.10019823, 0.1998179 ],\n",
              "       [0.58622757, 0.16528477, 0.92292214],\n",
              "       [0.93276869, 0.06208106, 0.28881502],\n",
              "       [0.60985848, 0.83741873, 0.61330124]])"
            ]
          },
          "metadata": {
            "tags": []
          },
          "execution_count": 18
        }
      ]
    },
    {
      "cell_type": "code",
      "metadata": {
        "id": "VOvg1_Rkqks7",
        "colab_type": "code",
        "colab": {
          "base_uri": "https://localhost:8080/",
          "height": 34
        },
        "outputId": "55a5eb45-7ec4-448b-92b3-3e7c2b0fe49e"
      },
      "source": [
        "type(b.numpy())"
      ],
      "execution_count": 19,
      "outputs": [
        {
          "output_type": "execute_result",
          "data": {
            "text/plain": [
              "numpy.ndarray"
            ]
          },
          "metadata": {
            "tags": []
          },
          "execution_count": 19
        }
      ]
    },
    {
      "cell_type": "code",
      "metadata": {
        "id": "LXUC65_5qnkz",
        "colab_type": "code",
        "colab": {
          "base_uri": "https://localhost:8080/",
          "height": 86
        },
        "outputId": "1fecb11c-ad50-4c40-8573-7df0df5f3c24"
      },
      "source": [
        "b.mul_(2)"
      ],
      "execution_count": 21,
      "outputs": [
        {
          "output_type": "execute_result",
          "data": {
            "text/plain": [
              "tensor([[1.0721, 0.2004, 0.3996],\n",
              "        [1.1725, 0.3306, 1.8458],\n",
              "        [1.8655, 0.1242, 0.5776],\n",
              "        [1.2197, 1.6748, 1.2266]], dtype=torch.float64)"
            ]
          },
          "metadata": {
            "tags": []
          },
          "execution_count": 21
        }
      ]
    },
    {
      "cell_type": "code",
      "metadata": {
        "id": "BJ9s9UPTqsuM",
        "colab_type": "code",
        "colab": {
          "base_uri": "https://localhost:8080/",
          "height": 86
        },
        "outputId": "3f6ad92e-b2f3-4e33-a24d-4dad6008980e"
      },
      "source": [
        "a"
      ],
      "execution_count": 22,
      "outputs": [
        {
          "output_type": "execute_result",
          "data": {
            "text/plain": [
              "array([[1.07211038, 0.20039647, 0.39963579],\n",
              "       [1.17245514, 0.33056953, 1.84584428],\n",
              "       [1.86553738, 0.12416212, 0.57763003],\n",
              "       [1.21971695, 1.67483747, 1.22660247]])"
            ]
          },
          "metadata": {
            "tags": []
          },
          "execution_count": 22
        }
      ]
    },
    {
      "cell_type": "code",
      "metadata": {
        "id": "ss_o2BxJqu7E",
        "colab_type": "code",
        "colab": {}
      },
      "source": [
        ""
      ],
      "execution_count": 0,
      "outputs": []
    }
  ]
}