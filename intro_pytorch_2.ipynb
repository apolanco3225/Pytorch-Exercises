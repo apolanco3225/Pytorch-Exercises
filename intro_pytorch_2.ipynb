{
  "nbformat": 4,
  "nbformat_minor": 0,
  "metadata": {
    "colab": {
      "name": "intro_pytorch_2.ipynb",
      "version": "0.3.2",
      "provenance": [],
      "include_colab_link": true
    },
    "kernelspec": {
      "name": "python3",
      "display_name": "Python 3"
    },
    "accelerator": "GPU"
  },
  "cells": [
    {
      "cell_type": "markdown",
      "metadata": {
        "id": "view-in-github",
        "colab_type": "text"
      },
      "source": [
        "<a href=\"https://colab.research.google.com/github/apolanco3225/Pytorch-Exercises/blob/master/intro_pytorch_2.ipynb\" target=\"_parent\"><img src=\"https://colab.research.google.com/assets/colab-badge.svg\" alt=\"Open In Colab\"/></a>"
      ]
    },
    {
      "cell_type": "code",
      "metadata": {
        "id": "4-a1d5Toyhti",
        "colab_type": "code",
        "colab": {}
      },
      "source": [
        "%matplotlib inline\n",
        "%config InlineBackend.figure_format = 'retina'\n",
        "import numpy as np\n",
        "import torch\n",
        "import matplotlib.pyplot as plt"
      ],
      "execution_count": 0,
      "outputs": []
    },
    {
      "cell_type": "code",
      "metadata": {
        "id": "ZZk2mxfF0TdM",
        "colab_type": "code",
        "colab": {
          "base_uri": "https://localhost:8080/",
          "height": 280
        },
        "outputId": "6208a657-f091-4f30-bf01-074c1816f62d"
      },
      "source": [
        "from torchvision import datasets, transforms\n",
        "transform = transforms.Compose([transforms.ToTensor(),\n",
        "                               transforms.Normalize((0.5,), (0.5,))\n",
        "                               ])\n",
        "\n",
        "trainset = datasets.MNIST('mnist', download=True, train=True, transform=transform)\n",
        "trainloader = torch.utils.data.DataLoader(trainset, batch_size=64, shuffle=True)"
      ],
      "execution_count": 3,
      "outputs": [
        {
          "output_type": "stream",
          "text": [
            "\r0it [00:00, ?it/s]"
          ],
          "name": "stderr"
        },
        {
          "output_type": "stream",
          "text": [
            "Downloading http://yann.lecun.com/exdb/mnist/train-images-idx3-ubyte.gz to mnist/MNIST/raw/train-images-idx3-ubyte.gz\n"
          ],
          "name": "stdout"
        },
        {
          "output_type": "stream",
          "text": [
            "9920512it [00:02, 4607808.89it/s]                             \n"
          ],
          "name": "stderr"
        },
        {
          "output_type": "stream",
          "text": [
            "Extracting mnist/MNIST/raw/train-images-idx3-ubyte.gz\n"
          ],
          "name": "stdout"
        },
        {
          "output_type": "stream",
          "text": [
            "\r0it [00:00, ?it/s]"
          ],
          "name": "stderr"
        },
        {
          "output_type": "stream",
          "text": [
            "Downloading http://yann.lecun.com/exdb/mnist/train-labels-idx1-ubyte.gz to mnist/MNIST/raw/train-labels-idx1-ubyte.gz\n"
          ],
          "name": "stdout"
        },
        {
          "output_type": "stream",
          "text": [
            "32768it [00:00, 67105.10it/s]                            \n",
            "0it [00:00, ?it/s]"
          ],
          "name": "stderr"
        },
        {
          "output_type": "stream",
          "text": [
            "Extracting mnist/MNIST/raw/train-labels-idx1-ubyte.gz\n",
            "Downloading http://yann.lecun.com/exdb/mnist/t10k-images-idx3-ubyte.gz to mnist/MNIST/raw/t10k-images-idx3-ubyte.gz\n"
          ],
          "name": "stdout"
        },
        {
          "output_type": "stream",
          "text": [
            "1654784it [00:01, 1110256.63it/s]                           \n",
            "0it [00:00, ?it/s]"
          ],
          "name": "stderr"
        },
        {
          "output_type": "stream",
          "text": [
            "Extracting mnist/MNIST/raw/t10k-images-idx3-ubyte.gz\n",
            "Downloading http://yann.lecun.com/exdb/mnist/t10k-labels-idx1-ubyte.gz to mnist/MNIST/raw/t10k-labels-idx1-ubyte.gz\n"
          ],
          "name": "stdout"
        },
        {
          "output_type": "stream",
          "text": [
            "8192it [00:00, 25303.32it/s]            "
          ],
          "name": "stderr"
        },
        {
          "output_type": "stream",
          "text": [
            "Extracting mnist/MNIST/raw/t10k-labels-idx1-ubyte.gz\n",
            "Processing...\n",
            "Done!\n"
          ],
          "name": "stdout"
        },
        {
          "output_type": "stream",
          "text": [
            "\n"
          ],
          "name": "stderr"
        }
      ]
    },
    {
      "cell_type": "code",
      "metadata": {
        "id": "9Mpk0cpi05PV",
        "colab_type": "code",
        "colab": {
          "base_uri": "https://localhost:8080/",
          "height": 69
        },
        "outputId": "712752c4-d549-4c28-a0b7-38ac37f85c03"
      },
      "source": [
        "dataiter = iter(trainloader)\n",
        "images, labels = dataiter.next()\n",
        "print(type(images))\n",
        "print(images.shape)\n",
        "print(images.shape)"
      ],
      "execution_count": 4,
      "outputs": [
        {
          "output_type": "stream",
          "text": [
            "<class 'torch.Tensor'>\n",
            "torch.Size([64, 1, 28, 28])\n",
            "torch.Size([64, 1, 28, 28])\n"
          ],
          "name": "stdout"
        }
      ]
    },
    {
      "cell_type": "code",
      "metadata": {
        "id": "UsH0c3Lj1OPj",
        "colab_type": "code",
        "colab": {
          "base_uri": "https://localhost:8080/",
          "height": 284
        },
        "outputId": "796fff7d-04ad-4655-d8fa-22bbc8f0cd7a"
      },
      "source": [
        "plt.imshow(images[1].numpy().squeeze(), cmap='Greys_r')"
      ],
      "execution_count": 5,
      "outputs": [
        {
          "output_type": "execute_result",
          "data": {
            "text/plain": [
              "<matplotlib.image.AxesImage at 0x7fe9a44efb00>"
            ]
          },
          "metadata": {
            "tags": []
          },
          "execution_count": 5
        },
        {
          "output_type": "display_data",
          "data": {
            "image/png": "[encoded data removed]",
            "text/plain": [
              "<Figure size 432x288 with 1 Axes>"
            ]
          },
          "metadata": {
            "tags": [],
            "image/png": {
              "width": 253,
              "height": 250
            }
          }
        }
      ]
    },
    {
      "cell_type": "code",
      "metadata": {
        "id": "vMXD6W0u1a52",
        "colab_type": "code",
        "colab": {}
      },
      "source": [
        "def activation(x):\n",
        "  return 1 / (1 + torch.exp(-x))\n",
        "\n",
        "inputs = images.view(images.shape[0], -1)\n",
        "\n",
        "w1 = torch.randn(784, 256)\n",
        "b1 = torch.randn(256)\n",
        "\n",
        "w2 = torch.randn(256, 10)\n",
        "b2 = torch.randn(10)\n",
        "\n",
        "h = activation(torch.mm(inputs, w1) + b1)\n",
        "\n",
        "out = torch.mm(h, w2) + b2"
      ],
      "execution_count": 0,
      "outputs": []
    },
    {
      "cell_type": "code",
      "metadata": {
        "id": "FpmWtBf116gH",
        "colab_type": "code",
        "colab": {
          "base_uri": "https://localhost:8080/",
          "height": 225
        },
        "outputId": "e6b6f162-03d7-46d1-ffa5-77ac50af232a"
      },
      "source": [
        "def softmax(x):\n",
        "  return torch.exp(x) *  torch.sum(torch.exp(x), dim=1).view(-1, 1)\n",
        "\n",
        "probabilities = softmax(out)\n",
        "\n",
        "print(probabilities.shape)\n",
        "print(probabilities.sum(dim=1))"
      ],
      "execution_count": 10,
      "outputs": [
        {
          "output_type": "stream",
          "text": [
            "torch.Size([64, 10])\n",
            "tensor([3.4514e+22, 2.5215e+21, 6.4784e+14, 1.9115e+21, 3.6725e+21, 6.6377e+12,\n",
            "        3.3540e+15, 8.9775e+12, 1.1326e+24, 2.0810e+23, 1.1283e+24, 1.1400e+15,\n",
            "        1.1388e+14, 4.9113e+18, 5.7417e+10, 4.0508e+14, 1.3219e+22, 2.1596e+13,\n",
            "        1.1619e+20, 4.7523e+14, 2.7141e+18, 2.6718e+17, 1.7382e+20, 8.1476e+22,\n",
            "        1.1582e+26, 7.3798e+24, 3.0818e+24, 4.4848e+15, 3.3880e+22, 8.1393e+15,\n",
            "        7.6799e+17, 4.4559e+29, 2.7520e+22, 3.2446e+20, 1.0376e+22, 1.0065e+29,\n",
            "        4.5426e+23, 3.9690e+21, 9.7728e+21, 3.9499e+15, 9.4729e+16, 4.0847e+11,\n",
            "        1.7983e+16, 1.1335e+26, 1.0321e+23, 3.1534e+23, 3.9456e+21, 5.2062e+24,\n",
            "        7.6818e+13, 2.8095e+16, 1.8860e+16, 2.3518e+21, 5.9413e+15, 3.1812e+23,\n",
            "        4.2728e+22, 6.9883e+15, 2.7635e+17, 8.5028e+21, 1.6319e+23, 2.7350e+17,\n",
            "        3.3133e+16, 8.9764e+18, 1.5220e+17, 1.0413e+19])\n"
          ],
          "name": "stdout"
        }
      ]
    },
    {
      "cell_type": "code",
      "metadata": {
        "id": "WU4Lb3F22QA8",
        "colab_type": "code",
        "colab": {}
      },
      "source": [
        "from torch import nn"
      ],
      "execution_count": 0,
      "outputs": []
    },
    {
      "cell_type": "code",
      "metadata": {
        "id": "Q7sNw0jT2VWE",
        "colab_type": "code",
        "colab": {
          "base_uri": "https://localhost:8080/",
          "height": 121
        },
        "outputId": "4880e092-ed90-4bd5-8382-4d2bf75c2452"
      },
      "source": [
        "class Network(nn.Module):\n",
        "  def __init__(self):\n",
        "    super().__init__()\n",
        "    \n",
        "    self.hidden = nn.Linear(784, 256)\n",
        "    self.output = nn.Linear(256, 10)\n",
        "    \n",
        "    self.sigmoid = nn.Sigmoid()\n",
        "    self.softmax = nn.Softmax(dim=1)\n",
        "    \n",
        "  def forward(self, x):\n",
        "    x = self.hidden(x)\n",
        "    x = self.sigmoid(x)\n",
        "    x = self.output(x)\n",
        "    x - self.softmax(x)\n",
        "    return x\n",
        "  \n",
        "  \n",
        "model = Network()\n",
        "print(model)"
      ],
      "execution_count": 12,
      "outputs": [
        {
          "output_type": "stream",
          "text": [
            "Network(\n",
            "  (hidden): Linear(in_features=784, out_features=256, bias=True)\n",
            "  (output): Linear(in_features=256, out_features=10, bias=True)\n",
            "  (sigmoid): Sigmoid()\n",
            "  (softmax): Softmax()\n",
            ")\n"
          ],
          "name": "stdout"
        }
      ]
    },
    {
      "cell_type": "code",
      "metadata": {
        "id": "uMGfxDKb2z4V",
        "colab_type": "code",
        "colab": {}
      },
      "source": [
        "import torch.nn.functional as F"
      ],
      "execution_count": 0,
      "outputs": []
    },
    {
      "cell_type": "code",
      "metadata": {
        "id": "NO46Mptm25gg",
        "colab_type": "code",
        "colab": {
          "base_uri": "https://localhost:8080/",
          "height": 86
        },
        "outputId": "81d4c127-ebac-4d8d-d526-45fad1fdbc27"
      },
      "source": [
        "class Network(nn.Module):\n",
        "  def __init__(self):\n",
        "    super().__init__()\n",
        "    self.hidden = nn.Linear(784, 256)\n",
        "    self.output = nn.Linear(256, 10)\n",
        "    \n",
        "  def forward(self, x):\n",
        "    x = F.sigmoid(self.hidden(x))\n",
        "    x = F.softmax(self.output(x), dim=1)\n",
        "    return x\n",
        "  \n",
        "model = Network()\n",
        "print(model)"
      ],
      "execution_count": 14,
      "outputs": [
        {
          "output_type": "stream",
          "text": [
            "Network(\n",
            "  (hidden): Linear(in_features=784, out_features=256, bias=True)\n",
            "  (output): Linear(in_features=256, out_features=10, bias=True)\n",
            ")\n"
          ],
          "name": "stdout"
        }
      ]
    },
    {
      "cell_type": "code",
      "metadata": {
        "id": "2eiOB_CV3VIj",
        "colab_type": "code",
        "colab": {
          "base_uri": "https://localhost:8080/",
          "height": 104
        },
        "outputId": "36b9c58a-1032-4c47-abef-1ded0c9bde9f"
      },
      "source": [
        "class Network(nn.Module):\n",
        "  def __init__(self):\n",
        "    super().__init__()\n",
        "    self.fc1 = nn.Linear(784, 128)\n",
        "    self.fc2 = nn.Linear(128, 64)\n",
        "    self.fc3 = nn.Linear(64, 10)\n",
        "    \n",
        "  def forward(self, x):\n",
        "    x = self.fc1(x)\n",
        "    x = F.relu(x)\n",
        "    x = self.fc2(x)\n",
        "    x = F.relu(x)\n",
        "    x = self.fc3(x)\n",
        "    x = F.softmax(x, dim=1)\n",
        "    return x\n",
        "  \n",
        "model = Network()\n",
        "print(model)"
      ],
      "execution_count": 16,
      "outputs": [
        {
          "output_type": "stream",
          "text": [
            "Network(\n",
            "  (fc1): Linear(in_features=784, out_features=128, bias=True)\n",
            "  (fc2): Linear(in_features=128, out_features=64, bias=True)\n",
            "  (fc3): Linear(in_features=64, out_features=10, bias=True)\n",
            ")\n"
          ],
          "name": "stdout"
        }
      ]
    },
    {
      "cell_type": "code",
      "metadata": {
        "id": "AWXmCO63364R",
        "colab_type": "code",
        "colab": {
          "base_uri": "https://localhost:8080/",
          "height": 573
        },
        "outputId": "4f54959e-5d83-429b-a611-05efafa9b757"
      },
      "source": [
        "print(model.fc1.weight)\n",
        "print(model.fc1.bias)"
      ],
      "execution_count": 17,
      "outputs": [
        {
          "output_type": "stream",
          "text": [
            "Parameter containing:\n",
            "tensor([[-2.6431e-02, -3.0018e-02, -1.5499e-03,  ...,  3.3230e-05,\n",
            "         -3.3160e-02,  2.4564e-02],\n",
            "        [-2.8066e-02,  8.4079e-03, -6.9863e-03,  ..., -1.8263e-02,\n",
            "          3.3524e-02,  2.5045e-03],\n",
            "        [ 3.7139e-03, -3.4190e-02, -3.3724e-02,  ...,  1.6031e-02,\n",
            "         -1.3719e-02, -3.2571e-02],\n",
            "        ...,\n",
            "        [-1.2223e-02,  1.7930e-02,  2.0775e-02,  ...,  1.6863e-02,\n",
            "          2.2159e-02, -3.4555e-02],\n",
            "        [ 1.4184e-02,  8.6680e-03,  1.4237e-02,  ..., -1.8713e-02,\n",
            "          9.8693e-03,  2.1303e-02],\n",
            "        [-2.1376e-02,  2.2429e-02, -1.3950e-02,  ..., -1.8598e-02,\n",
            "          2.9277e-02,  1.7413e-02]], requires_grad=True)\n",
            "Parameter containing:\n",
            "tensor([ 0.0029, -0.0115,  0.0282,  0.0202, -0.0234,  0.0280, -0.0042,  0.0175,\n",
            "        -0.0281, -0.0246, -0.0002, -0.0059, -0.0041, -0.0217, -0.0079, -0.0220,\n",
            "        -0.0344,  0.0132,  0.0081, -0.0356,  0.0338, -0.0143, -0.0113,  0.0320,\n",
            "        -0.0247, -0.0084,  0.0085, -0.0308, -0.0306,  0.0009,  0.0250, -0.0301,\n",
            "         0.0128,  0.0342, -0.0056,  0.0230,  0.0056, -0.0061,  0.0057,  0.0031,\n",
            "        -0.0339,  0.0336,  0.0216, -0.0145,  0.0017, -0.0197,  0.0031, -0.0334,\n",
            "         0.0024, -0.0120,  0.0019, -0.0319, -0.0196,  0.0303,  0.0107, -0.0015,\n",
            "         0.0143,  0.0128, -0.0171,  0.0005, -0.0335, -0.0183, -0.0263,  0.0102,\n",
            "        -0.0030, -0.0162, -0.0036,  0.0181, -0.0125, -0.0014,  0.0210,  0.0217,\n",
            "        -0.0178,  0.0081, -0.0176, -0.0260, -0.0117,  0.0053, -0.0150,  0.0072,\n",
            "         0.0046, -0.0101,  0.0062,  0.0219,  0.0195,  0.0241,  0.0289,  0.0302,\n",
            "         0.0238, -0.0196, -0.0118, -0.0127,  0.0292, -0.0147,  0.0275, -0.0224,\n",
            "        -0.0063,  0.0298,  0.0053, -0.0340,  0.0356, -0.0118, -0.0080, -0.0160,\n",
            "        -0.0324, -0.0331, -0.0329,  0.0177, -0.0042,  0.0049,  0.0021, -0.0123,\n",
            "         0.0189,  0.0199,  0.0209,  0.0121,  0.0214,  0.0356,  0.0065, -0.0220,\n",
            "        -0.0275, -0.0345,  0.0165,  0.0187,  0.0247,  0.0171, -0.0260,  0.0291],\n",
            "       requires_grad=True)\n"
          ],
          "name": "stdout"
        }
      ]
    },
    {
      "cell_type": "code",
      "metadata": {
        "id": "R4b3-i2-4KL3",
        "colab_type": "code",
        "colab": {
          "base_uri": "https://localhost:8080/",
          "height": 141
        },
        "outputId": "0a6aa44a-e4f0-48b9-f8ac-e8adbb9d9f7b"
      },
      "source": [
        "model.fc1.bias.data.fill_(0)"
      ],
      "execution_count": 18,
      "outputs": [
        {
          "output_type": "execute_result",
          "data": {
            "text/plain": [
              "tensor([0., 0., 0., 0., 0., 0., 0., 0., 0., 0., 0., 0., 0., 0., 0., 0., 0., 0., 0., 0., 0., 0., 0., 0.,\n",
              "        0., 0., 0., 0., 0., 0., 0., 0., 0., 0., 0., 0., 0., 0., 0., 0., 0., 0., 0., 0., 0., 0., 0., 0.,\n",
              "        0., 0., 0., 0., 0., 0., 0., 0., 0., 0., 0., 0., 0., 0., 0., 0., 0., 0., 0., 0., 0., 0., 0., 0.,\n",
              "        0., 0., 0., 0., 0., 0., 0., 0., 0., 0., 0., 0., 0., 0., 0., 0., 0., 0., 0., 0., 0., 0., 0., 0.,\n",
              "        0., 0., 0., 0., 0., 0., 0., 0., 0., 0., 0., 0., 0., 0., 0., 0., 0., 0., 0., 0., 0., 0., 0., 0.,\n",
              "        0., 0., 0., 0., 0., 0., 0., 0.])"
            ]
          },
          "metadata": {
            "tags": []
          },
          "execution_count": 18
        }
      ]
    },
    {
      "cell_type": "code",
      "metadata": {
        "id": "-dt1YmV15L6I",
        "colab_type": "code",
        "colab": {
          "base_uri": "https://localhost:8080/",
          "height": 243
        },
        "outputId": "06ab3a54-9301-4ac1-8d25-6cd80dd17085"
      },
      "source": [
        "model.fc1.weight.data.normal_(std=0.01)"
      ],
      "execution_count": 19,
      "outputs": [
        {
          "output_type": "execute_result",
          "data": {
            "text/plain": [
              "tensor([[-3.5246e-03, -1.6293e-02, -6.6619e-03,  ..., -1.0475e-02,\n",
              "          9.9723e-03,  1.3700e-02],\n",
              "        [-6.1713e-03, -7.8639e-03,  4.3656e-03,  ...,  5.7435e-03,\n",
              "          2.4099e-02,  2.1508e-02],\n",
              "        [-6.5165e-03, -1.3149e-02, -1.2164e-02,  ..., -2.0897e-04,\n",
              "         -1.9824e-02,  1.2908e-02],\n",
              "        ...,\n",
              "        [ 1.2431e-02,  1.1216e-02, -1.2004e-02,  ...,  1.0925e-02,\n",
              "          4.6353e-05, -8.0218e-03],\n",
              "        [-1.1353e-02,  6.4869e-03, -9.5364e-03,  ...,  7.1908e-03,\n",
              "         -1.3362e-02, -1.5820e-03],\n",
              "        [ 3.1552e-03, -7.9091e-03, -3.9753e-03,  ...,  4.1288e-03,\n",
              "         -1.1971e-02,  1.3998e-02]])"
            ]
          },
          "metadata": {
            "tags": []
          },
          "execution_count": 19
        }
      ]
    },
    {
      "cell_type": "code",
      "metadata": {
        "id": "33e_k3pQ5P0B",
        "colab_type": "code",
        "colab": {}
      },
      "source": [
        ""
      ],
      "execution_count": 0,
      "outputs": []
    }
  ]
}